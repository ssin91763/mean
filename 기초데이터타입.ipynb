{
  "nbformat": 4,
  "nbformat_minor": 0,
  "metadata": {
    "colab": {
      "name": "기초데이터타입.ipynb",
      "version": "0.3.2",
      "provenance": [],
      "include_colab_link": true
    },
    "kernelspec": {
      "name": "python3",
      "display_name": "Python 3"
    }
  },
  "cells": [
    {
      "cell_type": "markdown",
      "metadata": {
        "id": "view-in-github",
        "colab_type": "text"
      },
      "source": [
        "<a href=\"https://colab.research.google.com/github/ssin91763/mean/blob/master/%EA%B8%B0%EC%B4%88%EB%8D%B0%EC%9D%B4%ED%84%B0%ED%83%80%EC%9E%85.ipynb\" target=\"_parent\"><img src=\"https://colab.research.google.com/assets/colab-badge.svg\" alt=\"Open In Colab\"/></a>"
      ]
    },
    {
      "metadata": {
        "id": "fUOPtbr9TwJ1",
        "colab_type": "code",
        "colab": {}
      },
      "cell_type": "code",
      "source": [
        ""
      ],
      "execution_count": 0,
      "outputs": []
    },
    {
      "metadata": {
        "id": "U7kDdgCqTyAY",
        "colab_type": "text"
      },
      "cell_type": "markdown",
      "source": [
        "**파티션 기초 데이터 타입 **\n",
        "\n",
        "\n",
        "1.   Integer\n",
        "\n",
        "\n",
        "\n"
      ]
    },
    {
      "metadata": {
        "id": "ZP-f92fHT2GJ",
        "colab_type": "code",
        "colab": {
          "base_uri": "https://localhost:8080/",
          "height": 36
        },
        "outputId": "f977a0d9-1f8d-41c8-ff03-659902f5a60c"
      },
      "cell_type": "code",
      "source": [
        "a = 10\n",
        "type(a)"
      ],
      "execution_count": 1,
      "outputs": [
        {
          "output_type": "execute_result",
          "data": {
            "text/plain": [
              "int"
            ]
          },
          "metadata": {
            "tags": []
          },
          "execution_count": 1
        }
      ]
    },
    {
      "metadata": {
        "id": "3_q5EJrPVB8L",
        "colab_type": "text"
      },
      "cell_type": "markdown",
      "source": [
        "파이쎤의 모든 데이타 타입은 오브젝트이다.\n",
        "int 조차도 오브제트이다.  그래서 a.bit_length() 와 같은 함수를 사용 할수 있다.\n"
      ]
    },
    {
      "metadata": {
        "id": "PEiT9FjCVTV5",
        "colab_type": "code",
        "colab": {
          "base_uri": "https://localhost:8080/",
          "height": 36
        },
        "outputId": "2b769f92-0df2-46c6-9ade-bb123b6b0ac9"
      },
      "cell_type": "code",
      "source": [
        "a .bit_length()\n"
      ],
      "execution_count": 3,
      "outputs": [
        {
          "output_type": "execute_result",
          "data": {
            "text/plain": [
              "4"
            ]
          },
          "metadata": {
            "tags": []
          },
          "execution_count": 3
        }
      ]
    },
    {
      "metadata": {
        "id": "kKb3YyuYU-pa",
        "colab_type": "text"
      },
      "cell_type": "markdown",
      "source": [
        "오브젝트와 클래스에는 기억하기 힘든 많은 양의 메소드들이 있다.\n",
        "IPython같이 향상된 환경에서는 Tab 으로 해당 내용들으 보여준다. '\n",
        "간단히 오브넥트 이름 뒤에 dot를 치고 Tab키를 누르면 된다.\n",
        "\n",
        "\n",
        "다른 방법으로 dir이라는 빅트인 함수를 제공 한다.'"
      ]
    },
    {
      "metadata": {
        "id": "AeAKn64vWBs6",
        "colab_type": "code",
        "colab": {
          "base_uri": "https://localhost:8080/",
          "height": 1324
        },
        "outputId": "b6ca9c59-2ee9-4196-a42b-243c94934dbb"
      },
      "cell_type": "code",
      "source": [
        "dir(a)"
      ],
      "execution_count": 5,
      "outputs": [
        {
          "output_type": "execute_result",
          "data": {
            "text/plain": [
              "['__abs__',\n",
              " '__add__',\n",
              " '__and__',\n",
              " '__bool__',\n",
              " '__ceil__',\n",
              " '__class__',\n",
              " '__delattr__',\n",
              " '__dir__',\n",
              " '__divmod__',\n",
              " '__doc__',\n",
              " '__eq__',\n",
              " '__float__',\n",
              " '__floor__',\n",
              " '__floordiv__',\n",
              " '__format__',\n",
              " '__ge__',\n",
              " '__getattribute__',\n",
              " '__getnewargs__',\n",
              " '__gt__',\n",
              " '__hash__',\n",
              " '__index__',\n",
              " '__init__',\n",
              " '__init_subclass__',\n",
              " '__int__',\n",
              " '__invert__',\n",
              " '__le__',\n",
              " '__lshift__',\n",
              " '__lt__',\n",
              " '__mod__',\n",
              " '__mul__',\n",
              " '__ne__',\n",
              " '__neg__',\n",
              " '__new__',\n",
              " '__or__',\n",
              " '__pos__',\n",
              " '__pow__',\n",
              " '__radd__',\n",
              " '__rand__',\n",
              " '__rdivmod__',\n",
              " '__reduce__',\n",
              " '__reduce_ex__',\n",
              " '__repr__',\n",
              " '__rfloordiv__',\n",
              " '__rlshift__',\n",
              " '__rmod__',\n",
              " '__rmul__',\n",
              " '__ror__',\n",
              " '__round__',\n",
              " '__rpow__',\n",
              " '__rrshift__',\n",
              " '__rshift__',\n",
              " '__rsub__',\n",
              " '__rtruediv__',\n",
              " '__rxor__',\n",
              " '__setattr__',\n",
              " '__sizeof__',\n",
              " '__str__',\n",
              " '__sub__',\n",
              " '__subclasshook__',\n",
              " '__truediv__',\n",
              " '__trunc__',\n",
              " '__xor__',\n",
              " 'bit_length',\n",
              " 'conjugate',\n",
              " 'denominator',\n",
              " 'from_bytes',\n",
              " 'imag',\n",
              " 'numerator',\n",
              " 'real',\n",
              " 'to_bytes']"
            ]
          },
          "metadata": {
            "tags": []
          },
          "execution_count": 5
        }
      ]
    },
    {
      "metadata": {
        "id": "bh8d1QL0WoqV",
        "colab_type": "code",
        "colab": {}
      },
      "cell_type": "code",
      "source": [
        ""
      ],
      "execution_count": 0,
      "outputs": []
    },
    {
      "metadata": {
        "id": "9l31yhy8Ylw0",
        "colab_type": "text"
      },
      "cell_type": "markdown",
      "source": [
        "\n",
        "\n",
        "2.   Float\n",
        "\n",
        "\n"
      ]
    },
    {
      "metadata": {
        "id": "OSx4GoQuX0uj",
        "colab_type": "text"
      },
      "cell_type": "markdown",
      "source": [
        "특별히 파이션은 integer로 임의의 큰수도 처리 할수 이다.\n",
        "\n",
        "10의 100승인 구글 수도 \n"
      ]
    },
    {
      "metadata": {
        "id": "mUVgDyHaYKEp",
        "colab_type": "code",
        "colab": {
          "base_uri": "https://localhost:8080/",
          "height": 56
        },
        "outputId": "be3a4d8f-8fa4-461a-c89d-0a1c9e5011a3"
      },
      "cell_type": "code",
      "source": [
        "google = 10**100\n",
        "google"
      ],
      "execution_count": 6,
      "outputs": [
        {
          "output_type": "execute_result",
          "data": {
            "text/plain": [
              "10000000000000000000000000000000000000000000000000000000000000000000000000000000000000000000000000000"
            ]
          },
          "metadata": {
            "tags": []
          },
          "execution_count": 6
        }
      ]
    },
    {
      "metadata": {
        "id": "7M7EBkeYYNfd",
        "colab_type": "code",
        "colab": {
          "base_uri": "https://localhost:8080/",
          "height": 36
        },
        "outputId": "d9f79781-1346-4fff-e913-b397ef8b1800"
      },
      "cell_type": "code",
      "source": [
        "google.bit_length()"
      ],
      "execution_count": 8,
      "outputs": [
        {
          "output_type": "execute_result",
          "data": {
            "text/plain": [
              "333"
            ]
          },
          "metadata": {
            "tags": []
          },
          "execution_count": 8
        }
      ]
    },
    {
      "metadata": {
        "id": "e3YN4HHRYaHB",
        "colab_type": "code",
        "colab": {
          "base_uri": "https://localhost:8080/",
          "height": 633
        },
        "outputId": "eef30e1c-8f8d-4ea9-bc69-99820187dffb"
      },
      "cell_type": "code",
      "source": [
        "import keyword\n",
        "\n",
        "keyword.kwlist"
      ],
      "execution_count": 9,
      "outputs": [
        {
          "output_type": "execute_result",
          "data": {
            "text/plain": [
              "['False',\n",
              " 'None',\n",
              " 'True',\n",
              " 'and',\n",
              " 'as',\n",
              " 'assert',\n",
              " 'break',\n",
              " 'class',\n",
              " 'continue',\n",
              " 'def',\n",
              " 'del',\n",
              " 'elif',\n",
              " 'else',\n",
              " 'except',\n",
              " 'finally',\n",
              " 'for',\n",
              " 'from',\n",
              " 'global',\n",
              " 'if',\n",
              " 'import',\n",
              " 'in',\n",
              " 'is',\n",
              " 'lambda',\n",
              " 'nonlocal',\n",
              " 'not',\n",
              " 'or',\n",
              " 'pass',\n",
              " 'raise',\n",
              " 'return',\n",
              " 'try',\n",
              " 'while',\n",
              " 'with',\n",
              " 'yield']"
            ]
          },
          "metadata": {
            "tags": []
          },
          "execution_count": 9
        }
      ]
    },
    {
      "metadata": {
        "id": "FW7TVhc5YRXj",
        "colab_type": "code",
        "colab": {}
      },
      "cell_type": "code",
      "source": [
        ""
      ],
      "execution_count": 0,
      "outputs": []
    },
    {
      "metadata": {
        "id": "6CI0uRuVZ2g8",
        "colab_type": "text"
      },
      "cell_type": "markdown",
      "source": [
        "**Strings**\n",
        "스트링 은 많은 유용항 함수가 있다.\n",
        "str은 싱글이다 더블 쿼테이션으로 정의 할수 있다.\n",
        "또는 오브젝트의 str()함수를 이용할수 있다.\n",
        "\n",
        "\n"
      ]
    },
    {
      "metadata": {
        "id": "rskQVJybaTYN",
        "colab_type": "code",
        "colab": {
          "base_uri": "https://localhost:8080/",
          "height": 36
        },
        "outputId": "7aa29c94-890f-4522-8f02-2bca8d1c571e"
      },
      "cell_type": "code",
      "source": [
        "t='this is a string objext'\n",
        "\n",
        "t.capitalize()"
      ],
      "execution_count": 10,
      "outputs": [
        {
          "output_type": "execute_result",
          "data": {
            "text/plain": [
              "'This is a string objext'"
            ]
          },
          "metadata": {
            "tags": []
          },
          "execution_count": 10
        }
      ]
    },
    {
      "metadata": {
        "id": "S3ytzWZMaZKO",
        "colab_type": "code",
        "colab": {}
      },
      "cell_type": "code",
      "source": [
        ""
      ],
      "execution_count": 0,
      "outputs": []
    },
    {
      "metadata": {
        "id": "pLBfs3xIaf6m",
        "colab_type": "text"
      },
      "cell_type": "markdown",
      "source": [
        "문자열을 split하여 단어 리스트로 만들수 있다.\n",
        "\n"
      ]
    },
    {
      "metadata": {
        "id": "MiSdJuV-aqLr",
        "colab_type": "code",
        "colab": {
          "base_uri": "https://localhost:8080/",
          "height": 36
        },
        "outputId": "ab4216f4-f44c-4e7b-b77b-db20e5f11a08"
      },
      "cell_type": "code",
      "source": [
        "t.split()"
      ],
      "execution_count": 11,
      "outputs": [
        {
          "output_type": "execute_result",
          "data": {
            "text/plain": [
              "['this', 'is', 'a', 'string', 'objext']"
            ]
          },
          "metadata": {
            "tags": []
          },
          "execution_count": 11
        }
      ]
    },
    {
      "metadata": {
        "id": "3LseL-_ea2ts",
        "colab_type": "text"
      },
      "cell_type": "markdown",
      "source": [
        "단어의 위치 인덱스를  find함수로 찾을수 있다. \n",
        "찾고자 하는 문자열이 없으면 -1을 Return한다."
      ]
    },
    {
      "metadata": {
        "id": "GnBS_Rbja5I6",
        "colab_type": "code",
        "colab": {
          "base_uri": "https://localhost:8080/",
          "height": 36
        },
        "outputId": "387b454d-357f-4fc0-beeb-20f9f0cc7132"
      },
      "cell_type": "code",
      "source": [
        "t.find('string')"
      ],
      "execution_count": 13,
      "outputs": [
        {
          "output_type": "execute_result",
          "data": {
            "text/plain": [
              "10"
            ]
          },
          "metadata": {
            "tags": []
          },
          "execution_count": 13
        }
      ]
    },
    {
      "metadata": {
        "id": "sILf2eYha6nw",
        "colab_type": "code",
        "colab": {
          "base_uri": "https://localhost:8080/",
          "height": 36
        },
        "outputId": "777fbc3f-5770-445a-fc2e-8bf491f76d70"
      },
      "cell_type": "code",
      "source": [
        "t.find('Python')"
      ],
      "execution_count": 14,
      "outputs": [
        {
          "output_type": "execute_result",
          "data": {
            "text/plain": [
              "-1"
            ]
          },
          "metadata": {
            "tags": []
          },
          "execution_count": 14
        }
      ]
    },
    {
      "metadata": {
        "id": "wo3ydOTKbFq_",
        "colab_type": "code",
        "colab": {}
      },
      "cell_type": "code",
      "source": [
        ""
      ],
      "execution_count": 0,
      "outputs": []
    },
    {
      "metadata": {
        "id": "eNJYE9EnbH8z",
        "colab_type": "text"
      },
      "cell_type": "markdown",
      "source": [
        "replace함수로 문자열을 쉽게 바꿀수 있다."
      ]
    },
    {
      "metadata": {
        "id": "edwyxdnGbMvj",
        "colab_type": "code",
        "colab": {
          "base_uri": "https://localhost:8080/",
          "height": 36
        },
        "outputId": "c6f04fee-7d02-41f9-8b30-f1809ce5ad0e"
      },
      "cell_type": "code",
      "source": [
        "t.replace(' ','|')"
      ],
      "execution_count": 15,
      "outputs": [
        {
          "output_type": "execute_result",
          "data": {
            "text/plain": [
              "'this|is|a|string|objext'"
            ]
          },
          "metadata": {
            "tags": []
          },
          "execution_count": 15
        }
      ]
    },
    {
      "metadata": {
        "id": "qf0gijgNbQQo",
        "colab_type": "code",
        "colab": {
          "base_uri": "https://localhost:8080/",
          "height": 36
        },
        "outputId": "e62ae4b3-356e-4d4b-d64f-fab4514102ec"
      },
      "cell_type": "code",
      "source": [
        "'http://www.python.org'.strip('http:/')"
      ],
      "execution_count": 16,
      "outputs": [
        {
          "output_type": "execute_result",
          "data": {
            "text/plain": [
              "'www.python.org'"
            ]
          },
          "metadata": {
            "tags": []
          },
          "execution_count": 16
        }
      ]
    },
    {
      "metadata": {
        "id": "fMPv_wnabkGQ",
        "colab_type": "code",
        "colab": {
          "base_uri": "https://localhost:8080/",
          "height": 36
        },
        "outputId": "c6efd827-8a5c-4126-8cfa-f1b7805b2318"
      },
      "cell_type": "code",
      "source": [
        "i=0\n",
        "while i<4:\n",
        "  print(i,end='|')\n",
        "  i += 1"
      ],
      "execution_count": 17,
      "outputs": [
        {
          "output_type": "stream",
          "text": [
            "0|1|2|3|"
          ],
          "name": "stdout"
        }
      ]
    },
    {
      "metadata": {
        "id": "S22ssNpVct8y",
        "colab_type": "code",
        "colab": {}
      },
      "cell_type": "code",
      "source": [
        ""
      ],
      "execution_count": 0,
      "outputs": []
    },
    {
      "metadata": {
        "id": "nyCtWrIjcwEb",
        "colab_type": "text"
      },
      "cell_type": "markdown",
      "source": [
        "파이썬으 문자열을 표현하는 강력하 기느을 제공한다.\n",
        "\n",
        "예날 방식의 %를 이용 하는 방법과 \n",
        "\n",
        "{} 의 현대식 방법이 있다. \n",
        "\n"
      ]
    },
    {
      "metadata": {
        "id": "AzoJBX6Mdj6j",
        "colab_type": "code",
        "colab": {
          "base_uri": "https://localhost:8080/",
          "height": 36
        },
        "outputId": "7f9148be-ff2c-4dbb-de34-813ba1b14451"
      },
      "cell_type": "code",
      "source": [
        "'this is an integer %d' %15"
      ],
      "execution_count": 18,
      "outputs": [
        {
          "output_type": "execute_result",
          "data": {
            "text/plain": [
              "'this is an integer 15'"
            ]
          },
          "metadata": {
            "tags": []
          },
          "execution_count": 18
        }
      ]
    },
    {
      "metadata": {
        "id": "eOpGp8DrdopK",
        "colab_type": "code",
        "colab": {
          "base_uri": "https://localhost:8080/",
          "height": 36
        },
        "outputId": "57d9b568-5444-4570-ea88-4a802d5804ca"
      },
      "cell_type": "code",
      "source": [
        "'this is a float %8f' % 15.1234"
      ],
      "execution_count": 19,
      "outputs": [
        {
          "output_type": "execute_result",
          "data": {
            "text/plain": [
              "'this is a float 15.123400'"
            ]
          },
          "metadata": {
            "tags": []
          },
          "execution_count": 19
        }
      ]
    },
    {
      "metadata": {
        "id": "jraqj7HpeU5o",
        "colab_type": "code",
        "colab": {
          "base_uri": "https://localhost:8080/",
          "height": 36
        },
        "outputId": "a7b6aee1-bad9-428c-8dc8-30cb02b63621"
      },
      "cell_type": "code",
      "source": [
        "'this is a string %s ' % 'python'"
      ],
      "execution_count": 20,
      "outputs": [
        {
          "output_type": "execute_result",
          "data": {
            "text/plain": [
              "'this is a string python '"
            ]
          },
          "metadata": {
            "tags": []
          },
          "execution_count": 20
        }
      ]
    },
    {
      "metadata": {
        "id": "kTEnLdEbeddi",
        "colab_type": "code",
        "colab": {
          "base_uri": "https://localhost:8080/",
          "height": 36
        },
        "outputId": "ec6a8671-3c61-4b8e-9f67-895e2fcf1487"
      },
      "cell_type": "code",
      "source": [
        "'this is an integer {:d}' .format(16)"
      ],
      "execution_count": 21,
      "outputs": [
        {
          "output_type": "execute_result",
          "data": {
            "text/plain": [
              "'this is an integer 16'"
            ]
          },
          "metadata": {
            "tags": []
          },
          "execution_count": 21
        }
      ]
    },
    {
      "metadata": {
        "id": "BDFA6IaKe05d",
        "colab_type": "code",
        "colab": {
          "base_uri": "https://localhost:8080/",
          "height": 36
        },
        "outputId": "d635e94a-39cf-4e19-bb03-df3c042b248f"
      },
      "cell_type": "code",
      "source": [
        "'this is float {:f}'.format(15.123)"
      ],
      "execution_count": 22,
      "outputs": [
        {
          "output_type": "execute_result",
          "data": {
            "text/plain": [
              "'this is float 15.123000'"
            ]
          },
          "metadata": {
            "tags": []
          },
          "execution_count": 22
        }
      ]
    },
    {
      "metadata": {
        "id": "tbgqaGRPfEcZ",
        "colab_type": "code",
        "colab": {
          "base_uri": "https://localhost:8080/",
          "height": 36
        },
        "outputId": "34de7e30-0fa4-49dc-8cea-5622e0262f2b"
      },
      "cell_type": "code",
      "source": [
        "'this is a string {:10s}'.format('Python')"
      ],
      "execution_count": 23,
      "outputs": [
        {
          "output_type": "execute_result",
          "data": {
            "text/plain": [
              "'this is a string Python    '"
            ]
          },
          "metadata": {
            "tags": []
          },
          "execution_count": 23
        }
      ]
    },
    {
      "metadata": {
        "id": "G-FSnI0IfL4Q",
        "colab_type": "code",
        "colab": {
          "base_uri": "https://localhost:8080/",
          "height": 92
        },
        "outputId": "ec083ff3-5ccd-4fc3-d3a2-d7105dd8f9e0"
      },
      "cell_type": "code",
      "source": [
        "i =0\n",
        "while i<4:\n",
        "  print('the number is %d' %i)\n",
        "  i += 1"
      ],
      "execution_count": 26,
      "outputs": [
        {
          "output_type": "stream",
          "text": [
            "the number is 0\n",
            "the number is 1\n",
            "the number is 2\n",
            "the number is 3\n"
          ],
          "name": "stdout"
        }
      ]
    },
    {
      "metadata": {
        "id": "wav-p3LefYm3",
        "colab_type": "code",
        "colab": {
          "base_uri": "https://localhost:8080/",
          "height": 92
        },
        "outputId": "66b77dd3-d068-4b7f-f5bf-cc4819de9f19"
      },
      "cell_type": "code",
      "source": [
        "i =0\n",
        "while i< 4:\n",
        "  print('the numbe is {:d}'.format(i))\n",
        "  i +=1\n",
        "        "
      ],
      "execution_count": 28,
      "outputs": [
        {
          "output_type": "stream",
          "text": [
            "the numbe is 0\n",
            "the numbe is 1\n",
            "the numbe is 2\n",
            "the numbe is 3\n"
          ],
          "name": "stdout"
        }
      ]
    },
    {
      "metadata": {
        "id": "TxXtTfLtf0J8",
        "colab_type": "code",
        "colab": {}
      },
      "cell_type": "code",
      "source": [
        ""
      ],
      "execution_count": 0,
      "outputs": []
    },
    {
      "metadata": {
        "id": "CueZ2cDCia7T",
        "colab_type": "text"
      },
      "cell_type": "markdown",
      "source": [
        "정규표현식 \n",
        "\n",
        "문자열 을 작업 의 파워풀한 툴인 정규펴현식\n",
        "파이선은 정규표현식을 위하ㅕ  re모듈을 지원한다.\n"
      ]
    },
    {
      "metadata": {
        "id": "obFNtomxioel",
        "colab_type": "code",
        "colab": {
          "base_uri": "https://localhost:8080/",
          "height": 56
        },
        "outputId": "8ea17de3-04c9-4955-9e68-793521b23b38"
      },
      "cell_type": "code",
      "source": [
        "import re\n",
        "\n",
        "series='''\n",
        "'01/18/2014 13:00:00',100,'1st';\n",
        "'01/18/2014 13:00:00',100,'1st';\n",
        "'01/18/2014 13:00:00',100,'1st';\n",
        "'''\n",
        "series"
      ],
      "execution_count": 31,
      "outputs": [
        {
          "output_type": "execute_result",
          "data": {
            "text/plain": [
              "\"\\n'01/18/2014 13:00:00',100,'1st';\\n'01/18/2014 13:00:00',100,'1st';\\n'01/18/2014 13:00:00',100,'1st';\\n\""
            ]
          },
          "metadata": {
            "tags": []
          },
          "execution_count": 31
        }
      ]
    },
    {
      "metadata": {
        "id": "LOKdbE0TipuL",
        "colab_type": "code",
        "colab": {}
      },
      "cell_type": "code",
      "source": [
        "dt = re.compile(\"'[0-9/:\\s]+'\")"
      ],
      "execution_count": 0,
      "outputs": []
    },
    {
      "metadata": {
        "id": "QQcKPvRvjx4g",
        "colab_type": "code",
        "colab": {
          "base_uri": "https://localhost:8080/",
          "height": 36
        },
        "outputId": "dedc3f71-b658-4e0f-ec39-d8bab5c0b774"
      },
      "cell_type": "code",
      "source": [
        "result = dt.findall(series)\n",
        "result"
      ],
      "execution_count": 35,
      "outputs": [
        {
          "output_type": "execute_result",
          "data": {
            "text/plain": [
              "[\"'01/18/2014 13:00:00'\", \"'01/18/2014 13:00:00'\", \"'01/18/2014 13:00:00'\"]"
            ]
          },
          "metadata": {
            "tags": []
          },
          "execution_count": 35
        }
      ]
    },
    {
      "metadata": {
        "id": "Ew6IiyxQka06",
        "colab_type": "code",
        "colab": {
          "base_uri": "https://localhost:8080/",
          "height": 36
        },
        "outputId": "c2f042a6-6c12-4953-9e5c-5841bf93265a"
      },
      "cell_type": "code",
      "source": [
        "from datetime import datetime\n",
        "\n",
        "pydt = datetime.strptime(result[0].replace(\"'\",\"\"),'%m/%d/%Y %H:%M:%S')\n",
        "pydt"
      ],
      "execution_count": 37,
      "outputs": [
        {
          "output_type": "execute_result",
          "data": {
            "text/plain": [
              "datetime.datetime(2014, 1, 18, 13, 0)"
            ]
          },
          "metadata": {
            "tags": []
          },
          "execution_count": 37
        }
      ]
    },
    {
      "metadata": {
        "id": "1b1SXlRfj1su",
        "colab_type": "code",
        "colab": {
          "base_uri": "https://localhost:8080/",
          "height": 36
        },
        "outputId": "beecd5b8-ffdd-42e6-daf3-b12f853d7db8"
      },
      "cell_type": "code",
      "source": [
        "print(pydt)"
      ],
      "execution_count": 38,
      "outputs": [
        {
          "output_type": "stream",
          "text": [
            "2014-01-18 13:00:00\n"
          ],
          "name": "stdout"
        }
      ]
    },
    {
      "metadata": {
        "id": "APKnv6kmlSkK",
        "colab_type": "code",
        "colab": {
          "base_uri": "https://localhost:8080/",
          "height": 36
        },
        "outputId": "a8799af7-ad50-4084-96e4-88dc344974c6"
      },
      "cell_type": "code",
      "source": [
        "print(type(pydt))"
      ],
      "execution_count": 39,
      "outputs": [
        {
          "output_type": "stream",
          "text": [
            "<class 'datetime.datetime'>\n"
          ],
          "name": "stdout"
        }
      ]
    },
    {
      "metadata": {
        "id": "IpdGsNFElV8m",
        "colab_type": "code",
        "colab": {}
      },
      "cell_type": "code",
      "source": [
        ""
      ],
      "execution_count": 0,
      "outputs": []
    }
  ]
}